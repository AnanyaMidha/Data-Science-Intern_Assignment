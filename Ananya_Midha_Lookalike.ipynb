{
 "cells": [
  {
   "cell_type": "code",
   "execution_count": 21,
   "id": "21ad2e3f-1383-46b8-8e7b-b489491afcc0",
   "metadata": {},
   "outputs": [
    {
     "name": "stdout",
     "output_type": "stream",
     "text": [
      "  CustomerID        CustomerName         Region  SignupDate\n",
      "0      C0001    Lawrence Carroll  South America  2022-07-10\n",
      "1      C0002      Elizabeth Lutz           Asia  2022-02-13\n",
      "2      C0003      Michael Rivera  South America  2024-03-07\n",
      "3      C0004  Kathleen Rodriguez  South America  2022-10-09\n",
      "4      C0005         Laura Weber           Asia  2022-08-15\n",
      "  ProductID              ProductName     Category   Price\n",
      "0      P001     ActiveWear Biography        Books  169.30\n",
      "1      P002    ActiveWear Smartwatch  Electronics  346.30\n",
      "2      P003  ComfortLiving Biography        Books   44.12\n",
      "3      P004            BookWorld Rug   Home Decor   95.69\n",
      "4      P005          TechPro T-Shirt     Clothing  429.31\n",
      "  TransactionID CustomerID ProductID      TransactionDate  Quantity  \\\n",
      "0        T00001      C0199      P067  2024-08-25 12:38:23         1   \n",
      "1        T00112      C0146      P067  2024-05-27 22:23:54         1   \n",
      "2        T00166      C0127      P067  2024-04-25 07:38:55         1   \n",
      "3        T00272      C0087      P067  2024-03-26 22:55:37         2   \n",
      "4        T00363      C0070      P067  2024-03-21 15:10:10         3   \n",
      "\n",
      "   TotalValue   Price  \n",
      "0      300.68  300.68  \n",
      "1      300.68  300.68  \n",
      "2      300.68  300.68  \n",
      "3      601.36  300.68  \n",
      "4      902.04  300.68  \n",
      "CustomerID      0\n",
      "CustomerName    0\n",
      "Region          0\n",
      "SignupDate      0\n",
      "dtype: int64 ProductID      0\n",
      "ProductName    0\n",
      "Category       0\n",
      "Price          0\n",
      "dtype: int64 TransactionID      0\n",
      "CustomerID         0\n",
      "ProductID          0\n",
      "TransactionDate    0\n",
      "Quantity           0\n",
      "TotalValue         0\n",
      "Price              0\n",
      "dtype: int64\n",
      "0 0 0\n"
     ]
    }
   ],
   "source": [
    "import pandas as pd\n",
    "\n",
    "# Load datasets\n",
    "customers = pd.read_csv('Customers.csv')\n",
    "products = pd.read_csv('Products.csv')\n",
    "transactions = pd.read_csv('Transactions.csv')\n",
    "\n",
    "# Inspect datasets\n",
    "print(customers.head())\n",
    "print(products.head())\n",
    "print(transactions.head())\n",
    "\n",
    "# Check for null values and duplicates\n",
    "print(customers.isnull().sum(), products.isnull().sum(), transactions.isnull().sum())\n",
    "print(customers.duplicated().sum(), products.duplicated().sum(), transactions.duplicated().sum())\n"
   ]
  },
  {
   "cell_type": "code",
   "execution_count": 8,
   "id": "0d2ff31e-02ca-48ea-8ced-a79d6824790d",
   "metadata": {},
   "outputs": [
    {
     "name": "stdout",
     "output_type": "stream",
     "text": [
      "  TransactionID CustomerID ProductID      TransactionDate  Quantity  \\\n",
      "0        T00001      C0199      P067  2024-08-25 12:38:23         1   \n",
      "1        T00112      C0146      P067  2024-05-27 22:23:54         1   \n",
      "2        T00166      C0127      P067  2024-04-25 07:38:55         1   \n",
      "3        T00272      C0087      P067  2024-03-26 22:55:37         2   \n",
      "4        T00363      C0070      P067  2024-03-21 15:10:10         3   \n",
      "\n",
      "   TotalValue  Price_x     CustomerName         Region  SignupDate  \\\n",
      "0      300.68   300.68   Andrea Jenkins         Europe  2022-12-03   \n",
      "1      300.68   300.68  Brittany Harvey           Asia  2024-09-04   \n",
      "2      300.68   300.68  Kathryn Stevens         Europe  2024-04-04   \n",
      "3      601.36   300.68  Travis Campbell  South America  2024-04-11   \n",
      "4      902.04   300.68    Timothy Perez         Europe  2022-03-15   \n",
      "\n",
      "                       ProductName     Category  Price_y  \n",
      "0  ComfortLiving Bluetooth Speaker  Electronics   300.68  \n",
      "1  ComfortLiving Bluetooth Speaker  Electronics   300.68  \n",
      "2  ComfortLiving Bluetooth Speaker  Electronics   300.68  \n",
      "3  ComfortLiving Bluetooth Speaker  Electronics   300.68  \n",
      "4  ComfortLiving Bluetooth Speaker  Electronics   300.68  \n"
     ]
    }
   ],
   "source": [
    "# Merge datasets\n",
    "merged = transactions.merge(customers, on='CustomerID').merge(products, on='ProductID')\n",
    "\n",
    "# Inspect the merged data\n",
    "print(merged.head())\n"
   ]
  },
  {
   "cell_type": "code",
   "execution_count": 10,
   "id": "a60a0614-86ea-4edf-969a-9169ae6806fd",
   "metadata": {},
   "outputs": [
    {
     "name": "stdout",
     "output_type": "stream",
     "text": [
      "  CustomerID  TotalSpending  AvgTransactionValue  TransactionCount  \\\n",
      "0      C0001        3354.52              670.904                 5   \n",
      "1      C0002        1862.74              465.685                 4   \n",
      "2      C0003        2725.38              681.345                 4   \n",
      "3      C0004        5354.88              669.360                 8   \n",
      "4      C0005        2034.24              678.080                 3   \n",
      "\n",
      "   UniqueProducts  CommonCategory_Clothing  CommonCategory_Electronics  \\\n",
      "0               5                    False                        True   \n",
      "1               4                     True                       False   \n",
      "2               4                    False                       False   \n",
      "3               8                    False                       False   \n",
      "4               3                    False                        True   \n",
      "\n",
      "   CommonCategory_Home Decor  \n",
      "0                      False  \n",
      "1                      False  \n",
      "2                       True  \n",
      "3                      False  \n",
      "4                      False  \n"
     ]
    }
   ],
   "source": [
    "# Customer-level aggregates\n",
    "customer_features = merged.groupby('CustomerID').agg({\n",
    "    'TotalValue': ['sum', 'mean'],        # Total and average spending\n",
    "    'TransactionID': 'count',            # Transaction count\n",
    "    'ProductID': pd.Series.nunique,      # Unique products\n",
    "    'Category': lambda x: x.mode()[0]    # Most common category\n",
    "}).reset_index()\n",
    "\n",
    "# Rename columns\n",
    "customer_features.columns = [\n",
    "    'CustomerID', 'TotalSpending', 'AvgTransactionValue',\n",
    "    'TransactionCount', 'UniqueProducts', 'CommonCategory'\n",
    "]\n",
    "\n",
    "# One-hot encode categorical data (e.g., CommonCategory)\n",
    "customer_features = pd.get_dummies(customer_features, columns=['CommonCategory'], drop_first=True)\n",
    "\n",
    "print(customer_features.head())\n"
   ]
  },
  {
   "cell_type": "code",
   "execution_count": 12,
   "id": "551694de-288e-4cf5-a8d7-e703bf7dfcbd",
   "metadata": {},
   "outputs": [
    {
     "name": "stdout",
     "output_type": "stream",
     "text": [
      "  CustomerID  TotalSpending  AvgTransactionValue  TransactionCount  \\\n",
      "0      C0001      -0.061701            -0.070263         -0.011458   \n",
      "1      C0002      -0.877744            -0.934933         -0.467494   \n",
      "2      C0003      -0.405857            -0.026271         -0.467494   \n",
      "3      C0004       1.032547            -0.076769          1.356650   \n",
      "4      C0005      -0.783929            -0.040028         -0.923530   \n",
      "\n",
      "   UniqueProducts  CommonCategory_Clothing  CommonCategory_Electronics  \\\n",
      "0        0.050047                    False                        True   \n",
      "1       -0.424204                     True                       False   \n",
      "2       -0.424204                    False                       False   \n",
      "3        1.472798                    False                       False   \n",
      "4       -0.898455                    False                        True   \n",
      "\n",
      "   CommonCategory_Home Decor  \n",
      "0                      False  \n",
      "1                      False  \n",
      "2                       True  \n",
      "3                      False  \n",
      "4                      False  \n"
     ]
    }
   ],
   "source": [
    "from sklearn.preprocessing import StandardScaler\n",
    "\n",
    "# Define numerical columns\n",
    "numerical_columns = ['TotalSpending', 'AvgTransactionValue', 'TransactionCount', 'UniqueProducts']\n",
    "\n",
    "# Normalize features\n",
    "scaler = StandardScaler()\n",
    "customer_features[numerical_columns] = scaler.fit_transform(customer_features[numerical_columns])\n",
    "\n",
    "print(customer_features.head())\n"
   ]
  },
  {
   "cell_type": "code",
   "execution_count": 14,
   "id": "8a6c8e7d-6f38-496b-9a17-bd7bd0600910",
   "metadata": {},
   "outputs": [
    {
     "name": "stdout",
     "output_type": "stream",
     "text": [
      "CustomerID     C0001     C0002     C0003     C0004     C0005     C0006  \\\n",
      "CustomerID                                                               \n",
      "C0001       1.000000  0.059268  0.008758 -0.000067  0.558583 -0.086717   \n",
      "C0002       0.059268  1.000000  0.357228 -0.532381  0.487216 -0.470988   \n",
      "C0003       0.008758  0.357228  1.000000 -0.594532  0.500131  0.087284   \n",
      "C0004      -0.000067 -0.532381 -0.594532  1.000000 -0.828985 -0.243356   \n",
      "C0005       0.558583  0.487216  0.500131 -0.828985  1.000000  0.135587   \n",
      "\n",
      "CustomerID     C0007     C0008     C0009     C0010  ...     C0191     C0192  \\\n",
      "CustomerID                                          ...                       \n",
      "C0001       0.507631  0.039413  0.061549  0.063597  ...  0.097551  0.681421   \n",
      "C0002       0.173518 -0.226706  0.970074  0.997878  ...  0.702368  0.630461   \n",
      "C0003       0.428229 -0.270247  0.421638  0.348681  ...  0.172782  0.368348   \n",
      "C0004      -0.751216  0.870160 -0.639825 -0.513210  ... -0.174444 -0.559980   \n",
      "C0005       0.899282 -0.689781  0.577476  0.474619  ...  0.221210  0.854112   \n",
      "\n",
      "CustomerID     C0193     C0194     C0195     C0196     C0197     C0198  \\\n",
      "CustomerID                                                               \n",
      "C0001      -0.026602  0.044463  0.005029 -0.088659  0.555537  0.035498   \n",
      "C0002       0.284614 -0.196642 -0.294715 -0.464544  0.536817  0.898833   \n",
      "C0003       0.538647 -0.497747  0.283743  0.334607  0.502505  0.526942   \n",
      "C0004      -0.932562  0.890387  0.601751 -0.198070 -0.824882 -0.846308   \n",
      "C0005       0.753607 -0.703002 -0.494680  0.095233  0.996391  0.728664   \n",
      "\n",
      "CustomerID     C0199     C0200  \n",
      "CustomerID                      \n",
      "C0001       0.657949 -0.071570  \n",
      "C0002       0.650702 -0.234237  \n",
      "C0003       0.363689 -0.160278  \n",
      "C0004      -0.547865  0.188145  \n",
      "C0005       0.831825 -0.211153  \n",
      "\n",
      "[5 rows x 199 columns]\n"
     ]
    }
   ],
   "source": [
    "from sklearn.metrics.pairwise import cosine_similarity\n",
    "\n",
    "# Drop CustomerID for similarity calculation\n",
    "feature_matrix = customer_features.drop(columns=['CustomerID']).values\n",
    "\n",
    "# Calculate cosine similarity\n",
    "similarity_matrix = cosine_similarity(feature_matrix)\n",
    "\n",
    "# Convert similarity matrix into a DataFrame for readability\n",
    "similarity_df = pd.DataFrame(\n",
    "    similarity_matrix,\n",
    "    index=customer_features['CustomerID'],\n",
    "    columns=customer_features['CustomerID']\n",
    ")\n",
    "\n",
    "print(similarity_df.head())\n"
   ]
  },
  {
   "cell_type": "code",
   "execution_count": 16,
   "id": "1ee12d29-5b23-4267-a1f7-f5596003894b",
   "metadata": {},
   "outputs": [
    {
     "name": "stdout",
     "output_type": "stream",
     "text": [
      "{'C0001': [('C0072', 0.9462192572233441), ('C0190', 0.9416801751498163), ('C0069', 0.9107245938690862)], 'C0002': [('C0029', 0.9993654241194002), ('C0010', 0.9978779681739283), ('C0009', 0.970074440627757)], 'C0003': [('C0178', 0.9998807764023382), ('C0166', 0.9617406117799829), ('C0052', 0.9438158596050766)], 'C0004': [('C0021', 0.9997854801171627), ('C0075', 0.9995851081107424), ('C0175', 0.9977423749442703)], 'C0005': [('C0112', 0.9981708762371513), ('C0197', 0.9963907311258234), ('C0095', 0.9836446116534969)], 'C0006': [('C0117', 0.9978898632254388), ('C0168', 0.9880664242438316), ('C0185', 0.9472256882616829)], 'C0007': [('C0120', 0.9961287863517073), ('C0140', 0.9836919191804516), ('C0020', 0.950021083285971)], 'C0008': [('C0194', 0.9585048932099444), ('C0090', 0.9533667364360966), ('C0139', 0.9526998939977023)], 'C0009': [('C0077', 0.9997756842715478), ('C0083', 0.9964828112163444), ('C0010', 0.9763477987228947)], 'C0010': [('C0029', 0.9995639927786868), ('C0002', 0.9978779681739283), ('C0009', 0.9763477987228947)], 'C0011': [('C0064', 0.9954436829536131), ('C0187', 0.9903478730580466), ('C0018', 0.9895359487198563)], 'C0012': [('C0104', 0.9492504341336697), ('C0100', 0.9407997047737777), ('C0059', 0.9395712218005413)], 'C0013': [('C0099', 0.9863957814590626), ('C0143', 0.9789776298572959), ('C0141', 0.9607689037035665)], 'C0014': [('C0128', 0.9959926769506278), ('C0151', 0.995797824341994), ('C0097', 0.9861722257539075)], 'C0015': [('C0036', 0.9993643154378872), ('C0131', 0.9961984256273588), ('C0027', 0.994509063941887)], 'C0016': [('C0183', 0.9997861527326009), ('C0107', 0.9738076505299801), ('C0149', 0.9358118440405375)], 'C0017': [('C0090', 0.9925064368235696), ('C0175', 0.9906254831187088), ('C0075', 0.9848295852502392)], 'C0018': [('C0187', 0.9999835251888691), ('C0171', 0.9999642364458857), ('C0064', 0.9987852213233781)], 'C0019': [('C0116', 0.9833381622447946), ('C0191', 0.9265480729808138), ('C0174', 0.9239523124515879)], 'C0020': [('C0140', 0.984929890392365), ('C0120', 0.9581759752446812), ('C0007', 0.950021083285971)]}\n"
     ]
    }
   ],
   "source": [
    "# Generate lookalike recommendations\n",
    "lookalike_results = {}\n",
    "for customer_id in customer_features['CustomerID'][:20]:  # First 20 customers\n",
    "    similar_customers = similarity_df[customer_id].sort_values(ascending=False).iloc[1:4]\n",
    "    lookalike_results[customer_id] = list(zip(similar_customers.index, similar_customers.values))\n",
    "\n",
    "# Print recommendations\n",
    "print(lookalike_results)\n"
   ]
  },
  {
   "cell_type": "code",
   "execution_count": 18,
   "id": "b22eec9e-299c-4369-a4ec-8bbd84641f85",
   "metadata": {},
   "outputs": [],
   "source": [
    "# Prepare data for CSV\n",
    "lookalike_data = []\n",
    "for customer, lookalikes in lookalike_results.items():\n",
    "    row = [customer]\n",
    "    for lookalike_id, score in lookalikes:\n",
    "        row.extend([lookalike_id, score])\n",
    "    lookalike_data.append(row)\n",
    "\n",
    "# Create DataFrame\n",
    "lookalike_df = pd.DataFrame(\n",
    "    lookalike_data,\n",
    "    columns=['CustomerID', 'LookalikeID1', 'Score1', 'LookalikeID2', 'Score2', 'LookalikeID3', 'Score3']\n",
    ")\n",
    "\n",
    "# Save to CSV\n",
    "lookalike_df.to_csv('Lookalike.csv', index=False)\n"
   ]
  },
  {
   "cell_type": "code",
   "execution_count": null,
   "id": "61a82c79-9b8d-4e80-a4e6-3f4db4796090",
   "metadata": {},
   "outputs": [],
   "source": []
  }
 ],
 "metadata": {
  "kernelspec": {
   "display_name": "Python 3 (ipykernel)",
   "language": "python",
   "name": "python3"
  },
  "language_info": {
   "codemirror_mode": {
    "name": "ipython",
    "version": 3
   },
   "file_extension": ".py",
   "mimetype": "text/x-python",
   "name": "python",
   "nbconvert_exporter": "python",
   "pygments_lexer": "ipython3",
   "version": "3.12.4"
  }
 },
 "nbformat": 4,
 "nbformat_minor": 5
}
